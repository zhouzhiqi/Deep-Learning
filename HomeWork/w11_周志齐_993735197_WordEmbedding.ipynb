{
 "cells": [
  {
   "cell_type": "markdown",
   "metadata": {
    "toc": true
   },
   "source": [
    "<h1>WordEmbedding<span class=\"tocSkip\"></span></h1>\n",
    "<div class=\"toc\"><ul class=\"toc-item\"><li><span><a href=\"#作业成果\" data-toc-modified-id=\"作业成果-1\"><span class=\"toc-item-num\">1&nbsp;&nbsp;</span>作业成果</a></span><ul class=\"toc-item\"><li><span><a href=\"#词向量降维可视化--tsne.png\" data-toc-modified-id=\"词向量降维可视化--tsne.png-1.1\"><span class=\"toc-item-num\">1.1&nbsp;&nbsp;</span>词向量降维可视化--tsne.png</a></span></li><li><span><a href=\"#词向量分析与认识\" data-toc-modified-id=\"词向量分析与认识-1.2\"><span class=\"toc-item-num\">1.2&nbsp;&nbsp;</span>词向量分析与认识</a></span></li></ul></li><li><span><a href=\"#词向量简介\" data-toc-modified-id=\"词向量简介-2\"><span class=\"toc-item-num\">2&nbsp;&nbsp;</span>词向量简介</a></span></li><li><span><a href=\"#代码分析\" data-toc-modified-id=\"代码分析-3\"><span class=\"toc-item-num\">3&nbsp;&nbsp;</span>代码分析</a></span></li></ul></div>"
   ]
  },
  {
   "cell_type": "markdown",
   "metadata": {},
   "source": [
    "# 作业成果"
   ]
  },
  {
   "cell_type": "markdown",
   "metadata": {},
   "source": [
    " ## 词向量降维可视化--tsne.png\n",
    " \n",
    "![tsne](https://raw.githubusercontent.com/zhouzhiqi/Deep-Learning/master/HomeWork/tmp/w10_tsne.png)"
   ]
  },
  {
   "cell_type": "markdown",
   "metadata": {},
   "source": [
    "## 词向量分析与认识\n",
    "\n",
    "| 方框编号 | 方框内单词 | 单词语义 |\n",
    "| - | - | - |\n",
    "| - | - | - |\n",
    "| - | - | - |\n",
    "| - | - | - |\n",
    "| - | - | - |\n",
    "| - | - | - |"
   ]
  },
  {
   "cell_type": "markdown",
   "metadata": {
    "ExecuteTime": {
     "end_time": "2018-05-13T17:35:21.883185Z",
     "start_time": "2018-05-13T17:35:21.870192Z"
    }
   },
   "source": [
    "# 词向量简介"
   ]
  },
  {
   "cell_type": "markdown",
   "metadata": {},
   "source": [
    "类似于图像识别的基本过程: 预处理 -> 特征抽提 -> 分类器 -> 模式识别   \n",
    "文体信息的识别也有类似的过程: \n",
    "\n",
    "> 1. 对于文字的预处理, 如对标点符号,非中文信息,编码问题等\n",
    "> 2. 文本表示, 类似于对图像的高维特征的提取. 主要是对文本换成计算机可以处理的形式. 主要包括有One-Hot,  **`word-enbeding`**. \n",
    "> 3. 送进RNN或LSTM进行特征抽提. 由于RNN面临着梯度消失(或爆炸)的问题, LSTM被更广泛的使用\n",
    "> 4. 分类器有LR,SVM,决策树等,直接选用softmax\n"
   ]
  },
  {
   "cell_type": "markdown",
   "metadata": {},
   "source": [
    "One-Hot面临维度灾难的问题, 不常用\n",
    "如今主流的方法是词向量(word-enbeding), 基本思想是: \n",
    "通过大量文本**语料库训练**, \n",
    "将每个词映射为一个**K维**的实值向量, \n",
    "通常K的取值范围从几十到几百(远远小于该语言词典的大小). \n",
    "所有这些向量构成**词向量空间**, \n",
    "而每一个向量可以认为是整个空间中的一个**点**, \n",
    "通过计算这些向量的距离进行相似度判断. \n",
    "例如, 相似的两个单词'麦克风'和'话筒', 它们在向量空间中的距离就很近. \n",
    "而两个词之间的方向更像是语义, 如'中国'同'北京'的方向和'美国'同'纽约'的方向也很相近"
   ]
  },
  {
   "cell_type": "markdown",
   "metadata": {},
   "source": [
    "# 代码分析\n",
    "\n",
    "大致步骤:   \n",
    "\n",
    "> 1. 读入数据, 设定相关路径和参数   \n",
    "\n",
    "> 2. 建立数据集   \n",
    "> > 将数据中所有文字转成list, 并统计每个单词出现的频率;    \n",
    "> > 按频率大小排序, 并给予每个单词ID, ID号越小, 代表该单词出现频率越高;    \n",
    "> > 设定阈值(如5000), 并将所有低频词设为'UNK';     \n",
    "> > 建立索引文件 dictionary(word -> ID), reversed_dictionary(ID -> word), 并保存     \n",
    "\n",
    "> 3.建立并训练一个skip-gram模型, 以获得隐层权重   \n",
    "> > 建立生成batch函数   \n",
    "> > 构建tf.Graph()   \n",
    "> > 设定相关参数并进行训练   \n",
    "> > 获得词向量(即隐层权重)embeding, 并保存   \n",
    "\n",
    "> 4.对词向量降至2维, 进行可视化处理"
   ]
  },
  {
   "cell_type": "code",
   "execution_count": null,
   "metadata": {},
   "outputs": [],
   "source": []
  },
  {
   "cell_type": "markdown",
   "metadata": {},
   "source": [
    "循环神经网络(Recurrent Neural Network. RNN )是一种特殊的前向传播神经网络,它对于序列化数据如语音和文本等具有很强的建模能力, 广泛的用于自然语言处理中的语音识别以及机器翻译等领域.    \n",
    "标准的RNN由3层构成:输入层、循环层和输出层.   \n",
    "它的特别之处在于模型的循环层. 顾名思义, 循环, 也就是在循环层加入了自连接和互连接, 通过使用一个短序列, 对所有索引进行逐个的扫描来实现短时记忆的功能. \n",
    "简单的基于RBM的模型都是层间节点全连接, 层内节点无连接.    \n",
    "由于单词之间不是独立的, 都是有语义关系的, 而RNN可以充分的利用上下文信息, 记忆当前单词并时时更新这个时刻之前的所有单词的信息, 基于序列从而更好的预测.    "
   ]
  },
  {
   "cell_type": "markdown",
   "metadata": {},
   "source": []
  }
 ],
 "metadata": {
  "kernelspec": {
   "display_name": "Python 3",
   "language": "python",
   "name": "python3"
  },
  "language_info": {
   "codemirror_mode": {
    "name": "ipython",
    "version": 3
   },
   "file_extension": ".py",
   "mimetype": "text/x-python",
   "name": "python",
   "nbconvert_exporter": "python",
   "pygments_lexer": "ipython3",
   "version": "3.6.4"
  },
  "toc": {
   "nav_menu": {},
   "number_sections": true,
   "sideBar": true,
   "skip_h1_title": false,
   "title_cell": "WordEmbedding",
   "title_sidebar": "Contents",
   "toc_cell": true,
   "toc_position": {},
   "toc_section_display": true,
   "toc_window_display": false
  }
 },
 "nbformat": 4,
 "nbformat_minor": 2
}
